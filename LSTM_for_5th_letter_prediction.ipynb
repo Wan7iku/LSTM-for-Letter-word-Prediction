{
  "nbformat": 4,
  "nbformat_minor": 0,
  "metadata": {
    "colab": {
      "provenance": []
    },
    "kernelspec": {
      "name": "python3",
      "display_name": "Python 3"
    },
    "language_info": {
      "name": "python"
    }
  },
  "cells": [
    {
      "cell_type": "code",
      "execution_count": null,
      "metadata": {
        "id": "yjM1R98RYkjk"
      },
      "outputs": [],
      "source": [
        "import numpy as np\n",
        "import torch\n",
        "import torch.nn as nn\n",
        "import torch.optim as optim\n",
        "#torch, nn, optim for building and training neural networks\n"
      ]
    },
    {
      "cell_type": "code",
      "source": [
        "def make_batch():\n",
        "    input_batch, target_batch = [], []\n",
        "\n",
        "    for seq in seq_data:#each word in seq_data is slit\n",
        "        input = [word_dict[n] for n in seq[:-1]]\n",
        "        target = word_dict[seq[-1]]\n",
        "        input_batch.append(np.eye(n_class)[input])\n",
        "        target_batch.append(target)\n",
        "\n",
        "    return input_batch, target_batch"
      ],
      "metadata": {
        "id": "DRvYdWvUZW4f"
      },
      "execution_count": null,
      "outputs": []
    },
    {
      "cell_type": "code",
      "source": [
        "class TextLSTM(nn.Module):\n",
        "    def __init__(self):\n",
        "        super(TextLSTM, self).__init__()\n",
        "        self.lstm = nn.LSTM(input_size=n_class, hidden_size=n_hidden)\n",
        "        self.W = nn.Linear(n_hidden, n_class, bias=False)\n",
        "        self.b = nn.Parameter(torch.ones([n_class]))\n",
        "\n",
        "    def forward(self, X):\n",
        "        input = X.transpose(0, 1)  # Shape: [n_step, batch_size, n_class]\n",
        "        hidden_state = torch.zeros(1, len(X), n_hidden)\n",
        "        cell_state = torch.zeros(1, len(X), n_hidden)\n",
        "\n",
        "        outputs, (_, _) = self.lstm(input, (hidden_state, cell_state))\n",
        "        outputs = outputs[-1]  # Take the output of the last LSTM cell\n",
        "        model = self.W(outputs) + self.b\n",
        "        return model"
      ],
      "metadata": {
        "id": "otc6HDzfZypl"
      },
      "execution_count": null,
      "outputs": []
    },
    {
      "cell_type": "code",
      "source": [
        "if __name__ == '__main__':\n",
        "    n_step = 5\n",
        "    n_hidden = 128\n",
        "\n",
        "    char_arr = [c for c in 'abcdefghijklmnopqrstuvwxyz']\n",
        "    word_dict = {n: i for i, n in enumerate(char_arr)}\n",
        "    number_dict = {i: w for i, w in enumerate(char_arr)}\n",
        "    n_class = len(word_dict)\n",
        "\n",
        "    seq_data = [ 'planet', 'rocket', 'follow', 'magnet', 'candle', 'rivers']"
      ],
      "metadata": {
        "id": "HH0HBP_OaKqb"
      },
      "execution_count": null,
      "outputs": []
    },
    {
      "cell_type": "code",
      "source": [
        "model = TextLSTM()\n",
        "criterion = nn.CrossEntropyLoss()\n",
        "optimizer = optim.Adam(model.parameters(), lr=0.001)\n",
        "\n",
        "input_batch, target_batch = make_batch()\n",
        "input_batch = torch.FloatTensor(input_batch)\n",
        "target_batch = torch.LongTensor(target_batch)"
      ],
      "metadata": {
        "id": "8XNCAdlOaucu"
      },
      "execution_count": null,
      "outputs": []
    },
    {
      "cell_type": "code",
      "source": [
        "for epoch in range(1000):\n",
        "    optimizer.zero_grad()\n",
        "    output = model(input_batch)\n",
        "    loss = criterion(output, target_batch)\n",
        "    if (epoch + 1) % 100 == 0:\n",
        "        print('Epoch:', '%04d' % (epoch + 1), 'cost =', '{:.6f}'.format(loss))\n",
        "    loss.backward()\n",
        "    optimizer.step()"
      ],
      "metadata": {
        "colab": {
          "base_uri": "https://localhost:8080/"
        },
        "id": "lprqpDDia2Rm",
        "outputId": "a6d96785-839e-416c-e42a-799f9090d173"
      },
      "execution_count": null,
      "outputs": [
        {
          "output_type": "stream",
          "name": "stdout",
          "text": [
            "Epoch: 0100 cost = 0.147832\n",
            "Epoch: 0200 cost = 0.004510\n",
            "Epoch: 0300 cost = 0.002115\n",
            "Epoch: 0400 cost = 0.001218\n",
            "Epoch: 0500 cost = 0.000828\n",
            "Epoch: 0600 cost = 0.000609\n",
            "Epoch: 0700 cost = 0.000470\n",
            "Epoch: 0800 cost = 0.000376\n",
            "Epoch: 0900 cost = 0.000308\n",
            "Epoch: 1000 cost = 0.000257\n"
          ]
        }
      ]
    },
    {
      "cell_type": "code",
      "source": [
        "inputs = [sen[:5] for sen in seq_data]\n",
        "\n",
        "predict = model(input_batch).data.max(1, keepdim=True)[1]\n",
        "print(inputs, '->', [number_dict[n.item()] for n in predict.squeeze()])"
      ],
      "metadata": {
        "colab": {
          "base_uri": "https://localhost:8080/"
        },
        "id": "iUeLjJsta_2C",
        "outputId": "5f53585b-a791-403b-bb25-155cb8932b7c"
      },
      "execution_count": null,
      "outputs": [
        {
          "output_type": "stream",
          "name": "stdout",
          "text": [
            "['plane', 'rocke', 'follo', 'magne', 'candl', 'river'] -> ['t', 't', 'w', 't', 'e', 's']\n"
          ]
        }
      ]
    }
  ]
}